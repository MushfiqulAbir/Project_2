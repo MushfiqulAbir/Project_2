{
 "cells": [
  {
   "cell_type": "code",
   "execution_count": 14,
   "id": "7c0d337a",
   "metadata": {},
   "outputs": [
    {
     "name": "stdout",
     "output_type": "stream",
     "text": [
      "             id                                               name   host_id  \\\n",
      "0          2539                 Clean & quiet apt home by the park      2787   \n",
      "1          2595                              Skylit Midtown Castle      2845   \n",
      "2          3647                THE VILLAGE OF HARLEM....NEW YORK !      4632   \n",
      "3          3831                    Cozy Entire Floor of Brownstone      4869   \n",
      "4          5022   Entire Apt: Spacious Studio/Loft by central park      7192   \n",
      "...         ...                                                ...       ...   \n",
      "48890  36484665    Charming one bedroom - newly renovated rowhouse   8232441   \n",
      "48891  36485057      Affordable room in Bushwick/East Williamsburg   6570630   \n",
      "48892  36485431            Sunny Studio at Historical Neighborhood  23492952   \n",
      "48893  36485609               43rd St. Time Square-cozy single bed  30985759   \n",
      "48894  36487245  Trendy duplex in the very heart of Hell's Kitchen  68119814   \n",
      "\n",
      "           host_name neighbourhood_group       neighbourhood  latitude  \\\n",
      "0               John            Brooklyn          Kensington  40.64749   \n",
      "1           Jennifer           Manhattan             Midtown  40.75362   \n",
      "2          Elisabeth           Manhattan              Harlem  40.80902   \n",
      "3        LisaRoxanne            Brooklyn        Clinton Hill  40.68514   \n",
      "4              Laura           Manhattan         East Harlem  40.79851   \n",
      "...              ...                 ...                 ...       ...   \n",
      "48890        Sabrina            Brooklyn  Bedford-Stuyvesant  40.67853   \n",
      "48891        Marisol            Brooklyn            Bushwick  40.70184   \n",
      "48892  Ilgar & Aysel           Manhattan              Harlem  40.81475   \n",
      "48893            Taz           Manhattan      Hell's Kitchen  40.75751   \n",
      "48894     Christophe           Manhattan      Hell's Kitchen  40.76404   \n",
      "\n",
      "       longitude        room_type  price  minimum_nights  number_of_reviews  \\\n",
      "0      -73.97237     Private room    149               1                  9   \n",
      "1      -73.98377  Entire home/apt    225               1                 45   \n",
      "2      -73.94190     Private room    150               3                  0   \n",
      "3      -73.95976  Entire home/apt     89               1                270   \n",
      "4      -73.94399  Entire home/apt     80              10                  9   \n",
      "...          ...              ...    ...             ...                ...   \n",
      "48890  -73.94995     Private room     70               2                  0   \n",
      "48891  -73.93317     Private room     40               4                  0   \n",
      "48892  -73.94867  Entire home/apt    115              10                  0   \n",
      "48893  -73.99112      Shared room     55               1                  0   \n",
      "48894  -73.98933     Private room     90               7                  0   \n",
      "\n",
      "      last_review  reviews_per_month  calculated_host_listings_count  \\\n",
      "0      2018-10-19               0.21                               6   \n",
      "1      2019-05-21               0.38                               2   \n",
      "2             NaN                NaN                               1   \n",
      "3      2019-07-05               4.64                               1   \n",
      "4      2018-11-19               0.10                               1   \n",
      "...           ...                ...                             ...   \n",
      "48890         NaN                NaN                               2   \n",
      "48891         NaN                NaN                               2   \n",
      "48892         NaN                NaN                               1   \n",
      "48893         NaN                NaN                               6   \n",
      "48894         NaN                NaN                               1   \n",
      "\n",
      "       availability_365  \n",
      "0                   365  \n",
      "1                   355  \n",
      "2                   365  \n",
      "3                   194  \n",
      "4                     0  \n",
      "...                 ...  \n",
      "48890                 9  \n",
      "48891                36  \n",
      "48892                27  \n",
      "48893                 2  \n",
      "48894                23  \n",
      "\n",
      "[48895 rows x 16 columns]\n"
     ]
    }
   ],
   "source": [
    "import pandas as pd\n",
    "\n",
    "data = pd.read_csv('AB_NYC_2019.csv')\n",
    "\n",
    "print(data)"
   ]
  },
  {
   "cell_type": "code",
   "execution_count": 2,
   "id": "5d1a8f54",
   "metadata": {},
   "outputs": [
    {
     "name": "stdout",
     "output_type": "stream",
     "text": [
      "Highest Rent =  10000\n"
     ]
    }
   ],
   "source": [
    "#Show the highest rent\n",
    "\n",
    "data = data['price'].max()\n",
    "print(\"Highest Rent = \", data)"
   ]
  },
  {
   "cell_type": "code",
   "execution_count": 8,
   "id": "422ae3e3",
   "metadata": {},
   "outputs": [
    {
     "name": "stdout",
     "output_type": "stream",
     "text": [
      "Lowest Rent =  0\n"
     ]
    }
   ],
   "source": [
    " #Show the lowest rent\n",
    "    \n",
    "data = data['price'].min()\n",
    "print(\"Lowest Rent = \", data)"
   ]
  },
  {
   "cell_type": "code",
   "execution_count": 10,
   "id": "b894f215",
   "metadata": {},
   "outputs": [
    {
     "name": "stdout",
     "output_type": "stream",
     "text": [
      "             id                                               name    host_id  \\\n",
      "0          2539                 Clean & quiet apt home by the park       2787   \n",
      "2          3647                THE VILLAGE OF HARLEM....NEW YORK !       4632   \n",
      "6          5121                                    BlissArtsSpace!       7356   \n",
      "7          5178                   Large Furnished Room Near B'way        8967   \n",
      "8          5203                 Cozy Clean Guest Room - Family Apt       7490   \n",
      "...         ...                                                ...        ...   \n",
      "48888  36484087  Spacious Room w/ Private Rooftop, Central loca...  274321313   \n",
      "48889  36484363                                 QUIT PRIVATE HOUSE  107716952   \n",
      "48890  36484665    Charming one bedroom - newly renovated rowhouse    8232441   \n",
      "48891  36485057      Affordable room in Bushwick/East Williamsburg    6570630   \n",
      "48894  36487245  Trendy duplex in the very heart of Hell's Kitchen   68119814   \n",
      "\n",
      "        host_name neighbourhood_group       neighbourhood  latitude  \\\n",
      "0            John            Brooklyn          Kensington  40.64749   \n",
      "2       Elisabeth           Manhattan              Harlem  40.80902   \n",
      "6           Garon            Brooklyn  Bedford-Stuyvesant  40.68688   \n",
      "7        Shunichi           Manhattan      Hell's Kitchen  40.76489   \n",
      "8       MaryEllen           Manhattan     Upper West Side  40.80178   \n",
      "...           ...                 ...                 ...       ...   \n",
      "48888         Kat           Manhattan      Hell's Kitchen  40.76392   \n",
      "48889     Michael              Queens             Jamaica  40.69137   \n",
      "48890     Sabrina            Brooklyn  Bedford-Stuyvesant  40.67853   \n",
      "48891     Marisol            Brooklyn            Bushwick  40.70184   \n",
      "48894  Christophe           Manhattan      Hell's Kitchen  40.76404   \n",
      "\n",
      "       longitude     room_type  price  minimum_nights  number_of_reviews  \\\n",
      "0      -73.97237  Private room    149               1                  9   \n",
      "2      -73.94190  Private room    150               3                  0   \n",
      "6      -73.95596  Private room     60              45                 49   \n",
      "7      -73.98493  Private room     79               2                430   \n",
      "8      -73.96723  Private room     79               2                118   \n",
      "...          ...           ...    ...             ...                ...   \n",
      "48888  -73.99183  Private room    125               4                  0   \n",
      "48889  -73.80844  Private room     65               1                  0   \n",
      "48890  -73.94995  Private room     70               2                  0   \n",
      "48891  -73.93317  Private room     40               4                  0   \n",
      "48894  -73.98933  Private room     90               7                  0   \n",
      "\n",
      "      last_review  reviews_per_month  calculated_host_listings_count  \\\n",
      "0      2018-10-19               0.21                               6   \n",
      "2             NaN                NaN                               1   \n",
      "6      2017-10-05               0.40                               1   \n",
      "7      2019-06-24               3.47                               1   \n",
      "8      2017-07-21               0.99                               1   \n",
      "...           ...                ...                             ...   \n",
      "48888         NaN                NaN                               1   \n",
      "48889         NaN                NaN                               2   \n",
      "48890         NaN                NaN                               2   \n",
      "48891         NaN                NaN                               2   \n",
      "48894         NaN                NaN                               1   \n",
      "\n",
      "       availability_365  \n",
      "0                   365  \n",
      "2                   365  \n",
      "6                     0  \n",
      "7                   220  \n",
      "8                     0  \n",
      "...                 ...  \n",
      "48888                31  \n",
      "48889               163  \n",
      "48890                 9  \n",
      "48891                36  \n",
      "48894                23  \n",
      "\n",
      "[22326 rows x 16 columns]\n"
     ]
    }
   ],
   "source": [
    "#show only the private rooms\n",
    "\n",
    "data = data[data['room_type'].str.contains('Private room')]\n",
    "print(data)"
   ]
  },
  {
   "cell_type": "code",
   "execution_count": null,
   "id": "1b547e53",
   "metadata": {},
   "outputs": [],
   "source": []
  },
  {
   "cell_type": "code",
   "execution_count": null,
   "id": "20bde24c",
   "metadata": {},
   "outputs": [],
   "source": []
  }
 ],
 "metadata": {
  "kernelspec": {
   "display_name": "Python 3 (ipykernel)",
   "language": "python",
   "name": "python3"
  },
  "language_info": {
   "codemirror_mode": {
    "name": "ipython",
    "version": 3
   },
   "file_extension": ".py",
   "mimetype": "text/x-python",
   "name": "python",
   "nbconvert_exporter": "python",
   "pygments_lexer": "ipython3",
   "version": "3.8.12"
  }
 },
 "nbformat": 4,
 "nbformat_minor": 5
}
