{
 "cells": [
  {
   "cell_type": "code",
   "execution_count": null,
   "id": "e7ba0590",
   "metadata": {},
   "outputs": [],
   "source": [
    "import pandas as pd\n",
    "\n",
    "data = pd.read_csv('student_results.csv')\n",
    "\n",
    "print(data)"
   ]
  },
  {
   "cell_type": "code",
   "execution_count": 21,
   "id": "8476ad52",
   "metadata": {},
   "outputs": [
    {
     "name": "stdout",
     "output_type": "stream",
     "text": [
      "Average marks in Term 1 =  76.5\n"
     ]
    }
   ],
   "source": [
    "#Getting Average number for term 1\n",
    "StudentAvg1 = (data['term 1']).mean() \n",
    "print(\"Average marks in Term 1 = \",StudentAvg1)"
   ]
  },
  {
   "cell_type": "code",
   "execution_count": 23,
   "id": "6c43c906",
   "metadata": {},
   "outputs": [
    {
     "name": "stdout",
     "output_type": "stream",
     "text": [
      "Average marks in Term 2 =  78.4\n"
     ]
    }
   ],
   "source": [
    "#Getting Average number for term 2\n",
    "StudentAvg2 = (data['term 2']).mean() \n",
    "print(\"Average marks in Term 2 = \",StudentAvg2)"
   ]
  },
  {
   "cell_type": "code",
   "execution_count": 24,
   "id": "d1b20c62",
   "metadata": {},
   "outputs": [
    {
     "name": "stdout",
     "output_type": "stream",
     "text": [
      "Average marks in Term 3 =  78.3\n"
     ]
    }
   ],
   "source": [
    "#Getting Average number for term 3\n",
    "StudentAvg3 = (data['term 3']).mean() \n",
    "print(\"Average marks in Term 3 = \",StudentAvg3)"
   ]
  },
  {
   "cell_type": "code",
   "execution_count": 17,
   "id": "4c18317a",
   "metadata": {},
   "outputs": [
    {
     "data": {
      "text/html": [
       "<div>\n",
       "<style scoped>\n",
       "    .dataframe tbody tr th:only-of-type {\n",
       "        vertical-align: middle;\n",
       "    }\n",
       "\n",
       "    .dataframe tbody tr th {\n",
       "        vertical-align: top;\n",
       "    }\n",
       "\n",
       "    .dataframe thead th {\n",
       "        text-align: right;\n",
       "    }\n",
       "</style>\n",
       "<table border=\"1\" class=\"dataframe\">\n",
       "  <thead>\n",
       "    <tr style=\"text-align: right;\">\n",
       "      <th></th>\n",
       "      <th>id</th>\n",
       "      <th>name</th>\n",
       "      <th>phone</th>\n",
       "      <th>sex and age</th>\n",
       "      <th>test number</th>\n",
       "      <th>term 1</th>\n",
       "      <th>term 2</th>\n",
       "      <th>term 3</th>\n",
       "    </tr>\n",
       "  </thead>\n",
       "  <tbody>\n",
       "    <tr>\n",
       "      <th>0</th>\n",
       "      <td>1</td>\n",
       "      <td>Mike</td>\n",
       "      <td>134</td>\n",
       "      <td>m_12</td>\n",
       "      <td>test 1</td>\n",
       "      <td>76</td>\n",
       "      <td>84</td>\n",
       "      <td>87</td>\n",
       "    </tr>\n",
       "    <tr>\n",
       "      <th>1</th>\n",
       "      <td>2</td>\n",
       "      <td>Linda</td>\n",
       "      <td>270</td>\n",
       "      <td>f_13</td>\n",
       "      <td>test 1</td>\n",
       "      <td>88</td>\n",
       "      <td>90</td>\n",
       "      <td>73</td>\n",
       "    </tr>\n",
       "    <tr>\n",
       "      <th>2</th>\n",
       "      <td>3</td>\n",
       "      <td>Sam</td>\n",
       "      <td>210</td>\n",
       "      <td>m_11</td>\n",
       "      <td>test 1</td>\n",
       "      <td>78</td>\n",
       "      <td>74</td>\n",
       "      <td>80</td>\n",
       "    </tr>\n",
       "    <tr>\n",
       "      <th>3</th>\n",
       "      <td>4</td>\n",
       "      <td>Esther</td>\n",
       "      <td>617</td>\n",
       "      <td>f_12</td>\n",
       "      <td>test 1</td>\n",
       "      <td>68</td>\n",
       "      <td>75</td>\n",
       "      <td>74</td>\n",
       "    </tr>\n",
       "    <tr>\n",
       "      <th>4</th>\n",
       "      <td>5</td>\n",
       "      <td>Mary</td>\n",
       "      <td>114</td>\n",
       "      <td>f_14</td>\n",
       "      <td>test 1</td>\n",
       "      <td>65</td>\n",
       "      <td>67</td>\n",
       "      <td>64</td>\n",
       "    </tr>\n",
       "  </tbody>\n",
       "</table>\n",
       "</div>"
      ],
      "text/plain": [
       "   id    name  phone sex and age test number  term 1  term 2  term 3\n",
       "0   1    Mike    134        m_12      test 1      76      84      87\n",
       "1   2   Linda    270        f_13      test 1      88      90      73\n",
       "2   3     Sam    210        m_11      test 1      78      74      80\n",
       "3   4  Esther    617        f_12      test 1      68      75      74\n",
       "4   5    Mary    114        f_14      test 1      65      67      64"
      ]
     },
     "execution_count": 17,
     "metadata": {},
     "output_type": "execute_result"
    }
   ],
   "source": [
    "#showing the frst 5 students data, removing any duplicate id\n",
    "data.drop_duplicates(subset=['id'], keep = 'first')"
   ]
  },
  {
   "cell_type": "code",
   "execution_count": 18,
   "id": "fb03b8b1",
   "metadata": {},
   "outputs": [
    {
     "data": {
      "text/html": [
       "<div>\n",
       "<style scoped>\n",
       "    .dataframe tbody tr th:only-of-type {\n",
       "        vertical-align: middle;\n",
       "    }\n",
       "\n",
       "    .dataframe tbody tr th {\n",
       "        vertical-align: top;\n",
       "    }\n",
       "\n",
       "    .dataframe thead th {\n",
       "        text-align: right;\n",
       "    }\n",
       "</style>\n",
       "<table border=\"1\" class=\"dataframe\">\n",
       "  <thead>\n",
       "    <tr style=\"text-align: right;\">\n",
       "      <th></th>\n",
       "      <th>id</th>\n",
       "      <th>name</th>\n",
       "      <th>phone</th>\n",
       "      <th>sex and age</th>\n",
       "      <th>test number</th>\n",
       "      <th>term 1</th>\n",
       "      <th>term 2</th>\n",
       "      <th>term 3</th>\n",
       "    </tr>\n",
       "  </thead>\n",
       "  <tbody>\n",
       "    <tr>\n",
       "      <th>5</th>\n",
       "      <td>1</td>\n",
       "      <td>Mike</td>\n",
       "      <td>134</td>\n",
       "      <td>m_12</td>\n",
       "      <td>test 2</td>\n",
       "      <td>85</td>\n",
       "      <td>80</td>\n",
       "      <td>90</td>\n",
       "    </tr>\n",
       "    <tr>\n",
       "      <th>6</th>\n",
       "      <td>2</td>\n",
       "      <td>Linda</td>\n",
       "      <td>270</td>\n",
       "      <td>f_13</td>\n",
       "      <td>test 2</td>\n",
       "      <td>87</td>\n",
       "      <td>82</td>\n",
       "      <td>94</td>\n",
       "    </tr>\n",
       "    <tr>\n",
       "      <th>7</th>\n",
       "      <td>3</td>\n",
       "      <td>Sam</td>\n",
       "      <td>210</td>\n",
       "      <td>m_11</td>\n",
       "      <td>test 2</td>\n",
       "      <td>80</td>\n",
       "      <td>87</td>\n",
       "      <td>80</td>\n",
       "    </tr>\n",
       "    <tr>\n",
       "      <th>8</th>\n",
       "      <td>4</td>\n",
       "      <td>Esther</td>\n",
       "      <td>617</td>\n",
       "      <td>f_12</td>\n",
       "      <td>test 2</td>\n",
       "      <td>70</td>\n",
       "      <td>75</td>\n",
       "      <td>78</td>\n",
       "    </tr>\n",
       "    <tr>\n",
       "      <th>9</th>\n",
       "      <td>5</td>\n",
       "      <td>Mary</td>\n",
       "      <td>114</td>\n",
       "      <td>f_14</td>\n",
       "      <td>test 2</td>\n",
       "      <td>68</td>\n",
       "      <td>70</td>\n",
       "      <td>63</td>\n",
       "    </tr>\n",
       "  </tbody>\n",
       "</table>\n",
       "</div>"
      ],
      "text/plain": [
       "   id    name  phone sex and age test number  term 1  term 2  term 3\n",
       "5   1    Mike    134        m_12      test 2      85      80      90\n",
       "6   2   Linda    270        f_13      test 2      87      82      94\n",
       "7   3     Sam    210        m_11      test 2      80      87      80\n",
       "8   4  Esther    617        f_12      test 2      70      75      78\n",
       "9   5    Mary    114        f_14      test 2      68      70      63"
      ]
     },
     "execution_count": 18,
     "metadata": {},
     "output_type": "execute_result"
    }
   ],
   "source": [
    "#showing the last 5 students data, removing any duplicate id\n",
    "data.drop_duplicates(subset=['id'], keep = 'last')"
   ]
  },
  {
   "cell_type": "code",
   "execution_count": 26,
   "id": "bc7549eb",
   "metadata": {},
   "outputs": [
    {
     "name": "stdout",
     "output_type": "stream",
     "text": [
      "Highest Grade in Term 1 =  88\n"
     ]
    }
   ],
   "source": [
    "#Getting Highest Grade for term 1\n",
    "HighestGrade = (data['term 1']).max() \n",
    "print(\"Highest Grade in Term 1 = \",HighestGrade)"
   ]
  },
  {
   "cell_type": "code",
   "execution_count": 28,
   "id": "e6eb62bc",
   "metadata": {},
   "outputs": [
    {
     "name": "stdout",
     "output_type": "stream",
     "text": [
      "Lowest Grade in Term 1 =  65\n"
     ]
    }
   ],
   "source": [
    "#Getting Lowest Grade for term 1\n",
    "LowestGrade = (data['term 1']).min() \n",
    "print(\"Lowest Grade in Term 1 = \",LowestGrade)"
   ]
  },
  {
   "cell_type": "code",
   "execution_count": null,
   "id": "a726241e",
   "metadata": {},
   "outputs": [],
   "source": []
  }
 ],
 "metadata": {
  "kernelspec": {
   "display_name": "Python 3 (ipykernel)",
   "language": "python",
   "name": "python3"
  },
  "language_info": {
   "codemirror_mode": {
    "name": "ipython",
    "version": 3
   },
   "file_extension": ".py",
   "mimetype": "text/x-python",
   "name": "python",
   "nbconvert_exporter": "python",
   "pygments_lexer": "ipython3",
   "version": "3.8.12"
  }
 },
 "nbformat": 4,
 "nbformat_minor": 5
}
